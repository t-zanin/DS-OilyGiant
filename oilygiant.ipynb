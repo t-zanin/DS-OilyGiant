{
 "cells": [
  {
   "cell_type": "code",
   "execution_count": null,
   "metadata": {
    "trusted": true
   },
   "outputs": [],
   "source": []
  },
  {
   "cell_type": "markdown",
   "metadata": {},
   "source": [
    "# Mineração OilyGiant\n",
    "\n",
    "\n",
    "**A empresa de mineração gostaria de fazer uma prospecção dos melhores lugares para o desenvolvimento de novos poços de petróleo.**"
   ]
  },
  {
   "cell_type": "markdown",
   "metadata": {},
   "source": [
    "## Preparação dos Dados\n",
    "\n",
    "### Imports e visualização dos dados"
   ]
  },
  {
   "cell_type": "code",
   "execution_count": 1,
   "metadata": {
    "trusted": true
   },
   "outputs": [],
   "source": [
    "import pandas as pd\n",
    "import numpy as np\n",
    "from sklearn.model_selection import train_test_split\n",
    "from sklearn.linear_model import LinearRegression\n",
    "from sklearn.metrics import mean_squared_error\n",
    "\n",
    "# Carregando os dados das três regiões\n",
    "geo_1 = pd.read_csv('geo_data_0.csv')\n",
    "geo_2 = pd.read_csv('geo_data_1.csv')\n",
    "geo_3 = pd.read_csv('geo_data_2.csv')"
   ]
  },
  {
   "cell_type": "code",
   "execution_count": 7,
   "metadata": {
    "trusted": true
   },
   "outputs": [
    {
     "name": "stdout",
     "output_type": "stream",
     "text": [
      "<class 'pandas.core.frame.DataFrame'>\n",
      "RangeIndex: 100000 entries, 0 to 99999\n",
      "Data columns (total 5 columns):\n",
      " #   Column   Non-Null Count   Dtype  \n",
      "---  ------   --------------   -----  \n",
      " 0   id       100000 non-null  object \n",
      " 1   f0       100000 non-null  float64\n",
      " 2   f1       100000 non-null  float64\n",
      " 3   f2       100000 non-null  float64\n",
      " 4   product  100000 non-null  float64\n",
      "dtypes: float64(4), object(1)\n",
      "memory usage: 3.8+ MB\n",
      "None\n",
      "\n",
      "      id        f0        f1        f2     product\n",
      "0  txEyH  0.705745 -0.497823  1.221170  105.280062\n",
      "1  2acmU  1.334711 -0.340164  4.365080   73.037750\n",
      "2  409Wp  1.022732  0.151990  1.419926   85.265647\n",
      "3  iJLyR -0.032172  0.139033  2.978566  168.620776\n",
      "4  Xdl7t  1.988431  0.155413  4.751769  154.036647\n",
      "\n",
      "id         0\n",
      "f0         0\n",
      "f1         0\n",
      "f2         0\n",
      "product    0\n",
      "dtype: int64\n"
     ]
    }
   ],
   "source": [
    "# Visualizando os dados\n",
    "\n",
    "#dados Geo 1\n",
    "print(geo_1.info())\n",
    "print()\n",
    "print(geo_1.head())\n",
    "print()\n",
    "print(geo_1.isnull().sum())\n"
   ]
  },
  {
   "cell_type": "code",
   "execution_count": 6,
   "metadata": {},
   "outputs": [
    {
     "name": "stdout",
     "output_type": "stream",
     "text": [
      "\n",
      "<class 'pandas.core.frame.DataFrame'>\n",
      "RangeIndex: 100000 entries, 0 to 99999\n",
      "Data columns (total 5 columns):\n",
      " #   Column   Non-Null Count   Dtype  \n",
      "---  ------   --------------   -----  \n",
      " 0   id       100000 non-null  object \n",
      " 1   f0       100000 non-null  float64\n",
      " 2   f1       100000 non-null  float64\n",
      " 3   f2       100000 non-null  float64\n",
      " 4   product  100000 non-null  float64\n",
      "dtypes: float64(4), object(1)\n",
      "memory usage: 3.8+ MB\n",
      "None\n",
      "\n",
      "      id         f0         f1        f2     product\n",
      "0  kBEdx -15.001348  -8.276000 -0.005876    3.179103\n",
      "1  62mP7  14.272088  -3.475083  0.999183   26.953261\n",
      "2  vyE1P   6.263187  -5.948386  5.001160  134.766305\n",
      "3  KcrkZ -13.081196 -11.506057  4.999415  137.945408\n",
      "4  AHL4O  12.702195  -8.147433  5.004363  134.766305\n",
      "\n",
      "id         0\n",
      "f0         0\n",
      "f1         0\n",
      "f2         0\n",
      "product    0\n",
      "dtype: int64\n"
     ]
    }
   ],
   "source": [
    "#dados Geo 2\n",
    "print()\n",
    "print(geo_2.info())\n",
    "print()\n",
    "print(geo_2.head())\n",
    "print()\n",
    "print(geo_2.isnull().sum())"
   ]
  },
  {
   "cell_type": "code",
   "execution_count": 8,
   "metadata": {},
   "outputs": [
    {
     "name": "stdout",
     "output_type": "stream",
     "text": [
      "\n",
      "<class 'pandas.core.frame.DataFrame'>\n",
      "RangeIndex: 100000 entries, 0 to 99999\n",
      "Data columns (total 5 columns):\n",
      " #   Column   Non-Null Count   Dtype  \n",
      "---  ------   --------------   -----  \n",
      " 0   id       100000 non-null  object \n",
      " 1   f0       100000 non-null  float64\n",
      " 2   f1       100000 non-null  float64\n",
      " 3   f2       100000 non-null  float64\n",
      " 4   product  100000 non-null  float64\n",
      "dtypes: float64(4), object(1)\n",
      "memory usage: 3.8+ MB\n",
      "None\n",
      "\n",
      "      id        f0        f1        f2     product\n",
      "0  fwXo0 -1.146987  0.963328 -0.828965   27.758673\n",
      "1  WJtFt  0.262778  0.269839 -2.530187   56.069697\n",
      "2  ovLUW  0.194587  0.289035 -5.586433   62.871910\n",
      "3  q6cA6  2.236060 -0.553760  0.930038  114.572842\n",
      "4  WPMUX -0.515993  1.716266  5.899011  149.600746\n",
      "\n",
      "id         0\n",
      "f0         0\n",
      "f1         0\n",
      "f2         0\n",
      "product    0\n",
      "dtype: int64\n"
     ]
    }
   ],
   "source": [
    "#dados Geo 3\n",
    "print()\n",
    "print(geo_3.info())\n",
    "print()\n",
    "print(geo_3.head())\n",
    "print()\n",
    "print(geo_3.isnull().sum())"
   ]
  },
  {
   "cell_type": "markdown",
   "metadata": {},
   "source": [
    "**Após uma verificação cuidadosa dos três arquivos de dados, constatou-se que não é necessário nenhuma alteração em relação ao estilo de dados e formato. Foi verificado se os arquivos possuem valores ausentes, como todas as colunas e linhas estão corretas, não há necessidade de nenhuma ação.**"
   ]
  },
  {
   "cell_type": "markdown",
   "metadata": {},
   "source": [
    "## Teste do modelo nos três conjuntos de dados.\n",
    "\n",
    "### Divisão dos dados em treinamento e validação"
   ]
  },
  {
   "cell_type": "code",
   "execution_count": 9,
   "metadata": {
    "trusted": true
   },
   "outputs": [],
   "source": [
    "# Função para dividir os dados e preparar para treinamento\n",
    "def split_data(data):\n",
    "    # Separando características (f0, f1, f2) e alvo (product)\n",
    "    features = data[['f0', 'f1', 'f2']]\n",
    "    target = data['product']\n",
    "    \n",
    "    # Dividindo em treinamento (75%) e validação (25%)\n",
    "    X_train, X_valid, y_train, y_valid = train_test_split(\n",
    "        features, target, test_size=0.25, random_state=42\n",
    "    )\n",
    "    \n",
    "    return X_train, X_valid, y_train, y_valid\n",
    "\n",
    "# Aplicando a função para cada região\n",
    "X_train_1, X_valid_1, y_train_1, y_valid_1 = split_data(geo_1)\n",
    "X_train_2, X_valid_2, y_train_2, y_valid_2 = split_data(geo_2)\n",
    "X_train_3, X_valid_3, y_train_3, y_valid_3 = split_data(geo_3)"
   ]
  },
  {
   "cell_type": "markdown",
   "metadata": {},
   "source": [
    "**criei uma função split_data para dividir os dados em 75% treinamento e 25% validação, com random_state=42 para reprodutibilidade. Os dados de cada região são divididos separadamente.**"
   ]
  },
  {
   "cell_type": "markdown",
   "metadata": {},
   "source": [
    "### Treinamento do modelo"
   ]
  },
  {
   "cell_type": "code",
   "execution_count": 10,
   "metadata": {
    "trusted": true
   },
   "outputs": [],
   "source": [
    "# Função para treinar o modelo de regressão linear\n",
    "def train_model(X_train, y_train):\n",
    "    model = LinearRegression()\n",
    "    model.fit(X_train, y_train)\n",
    "    return model\n",
    "\n",
    "# Treinando o modelo para cada região\n",
    "model_1 = train_model(X_train_1, y_train_1)\n",
    "model_2 = train_model(X_train_2, y_train_2)\n",
    "model_3 = train_model(X_train_3, y_train_3)"
   ]
  },
  {
   "cell_type": "markdown",
   "metadata": {},
   "source": [
    "**A função train_model usa LinearRegression para treinar o modelo com os dados de treinamento. Um modelo é treinado para cada região.**"
   ]
  },
  {
   "cell_type": "markdown",
   "metadata": {},
   "source": [
    "### Predições e salvamento"
   ]
  },
  {
   "cell_type": "code",
   "execution_count": 11,
   "metadata": {
    "trusted": true
   },
   "outputs": [],
   "source": [
    "# Função para fazer predições e salvar os resultados\n",
    "def make_predictions(model, X_valid, y_valid):\n",
    "    predictions = model.predict(X_valid)\n",
    "    predictions_series = pd.Series(predictions, index=y_valid.index)\n",
    "    return predictions_series, y_valid\n",
    "\n",
    "# Fazendo predições para cada região\n",
    "predictions_1, true_values_1 = make_predictions(model_1, X_valid_1, y_valid_1)\n",
    "predictions_2, true_values_2 = make_predictions(model_2, X_valid_2, y_valid_2)\n",
    "predictions_3, true_values_3 = make_predictions(model_3, X_valid_3, y_valid_3)"
   ]
  },
  {
   "cell_type": "markdown",
   "metadata": {},
   "source": [
    "**A função make_predictions gera as predições no conjunto de validação e as armazena em uma Series, mantendo os valores reais (y_valid) para comparação.**"
   ]
  },
  {
   "cell_type": "markdown",
   "metadata": {},
   "source": [
    "### Volume médio previsto e REQM"
   ]
  },
  {
   "cell_type": "code",
   "execution_count": 12,
   "metadata": {
    "scrolled": true,
    "trusted": true
   },
   "outputs": [
    {
     "name": "stdout",
     "output_type": "stream",
     "text": [
      "Região 1 (geo_data_0):\n",
      "Volume médio previsto: 92.40 mil barris\n",
      "REQM: 37.76 mil barris\n",
      "\n",
      "Região 2 (geo_data_1):\n",
      "Volume médio previsto: 68.71 mil barris\n",
      "REQM: 0.89 mil barris\n",
      "\n",
      "Região 3 (geo_data_2):\n",
      "Volume médio previsto: 94.77 mil barris\n",
      "REQM: 40.15 mil barris\n"
     ]
    }
   ],
   "source": [
    "# Função para calcular volume médio e REQM\n",
    "def evaluate_model(predictions, true_values):\n",
    "    mean_predicted_volume = predictions.mean()\n",
    "    rmse = np.sqrt(mean_squared_error(true_values, predictions))\n",
    "    return mean_predicted_volume, rmse\n",
    "\n",
    "# Avaliando cada região\n",
    "mean_volume_1, rmse_1 = evaluate_model(predictions_1, true_values_1)\n",
    "mean_volume_2, rmse_2 = evaluate_model(predictions_2, true_values_2)\n",
    "mean_volume_3, rmse_3 = evaluate_model(predictions_3, true_values_3)\n",
    "\n",
    "# Exibindo os resultados\n",
    "print(\"Região 1 (geo_data_0):\")\n",
    "print(f\"Volume médio previsto: {mean_volume_1:.2f} mil barris\")\n",
    "print(f\"REQM: {rmse_1:.2f} mil barris\\n\")\n",
    "\n",
    "print(\"Região 2 (geo_data_1):\")\n",
    "print(f\"Volume médio previsto: {mean_volume_2:.2f} mil barris\")\n",
    "print(f\"REQM: {rmse_2:.2f} mil barris\\n\")\n",
    "\n",
    "print(\"Região 3 (geo_data_2):\")\n",
    "print(f\"Volume médio previsto: {mean_volume_3:.2f} mil barris\")\n",
    "print(f\"REQM: {rmse_3:.2f} mil barris\")"
   ]
  },
  {
   "cell_type": "markdown",
   "metadata": {},
   "source": [
    "### Análise dos resultados"
   ]
  },
  {
   "cell_type": "code",
   "execution_count": 13,
   "metadata": {
    "trusted": true
   },
   "outputs": [
    {
     "name": "stdout",
     "output_type": "stream",
     "text": [
      "Análise dos resultados:\n",
      "- Região 1 (geo_data_0):\n",
      "  Volume médio previsto: 92.40 mil barris\n",
      "  REQM: 37.76 mil barris\n",
      "  O erro é aceitável, indicando boa precisão do modelo.\n",
      "- Região 2 (geo_data_1):\n",
      "  Volume médio previsto: 68.71 mil barris\n",
      "  REQM: 0.89 mil barris\n",
      "  O erro é aceitável, indicando boa precisão do modelo.\n",
      "- Região 3 (geo_data_2):\n",
      "  Volume médio previsto: 94.77 mil barris\n",
      "  REQM: 40.15 mil barris\n",
      "  O erro é aceitável, indicando boa precisão do modelo.\n"
     ]
    }
   ],
   "source": [
    "# Análise qualitativa dos resultados\n",
    "print(\"Análise dos resultados:\")\n",
    "print(\"- Região 1 (geo_data_0):\")\n",
    "print(f\"  Volume médio previsto: {mean_volume_1:.2f} mil barris\")\n",
    "print(f\"  REQM: {rmse_1:.2f} mil barris\")\n",
    "if rmse_1 > mean_volume_1 * 0.5:\n",
    "    print(\"  O erro é relativamente alto, sugerindo baixa precisão nas predições.\")\n",
    "else:\n",
    "    print(\"  O erro é aceitável, indicando boa precisão do modelo.\")\n",
    "\n",
    "print(\"- Região 2 (geo_data_1):\")\n",
    "print(f\"  Volume médio previsto: {mean_volume_2:.2f} mil barris\")\n",
    "print(f\"  REQM: {rmse_2:.2f} mil barris\")\n",
    "if rmse_2 > mean_volume_2 * 0.5:\n",
    "    print(\"  O erro é relativamente alto, sugerindo baixa precisão nas predições.\")\n",
    "else:\n",
    "    print(\"  O erro é aceitável, indicando boa precisão do modelo.\")\n",
    "\n",
    "print(\"- Região 3 (geo_data_2):\")\n",
    "print(f\"  Volume médio previsto: {mean_volume_3:.2f} mil barris\")\n",
    "print(f\"  REQM: {rmse_3:.2f} mil barris\")\n",
    "if rmse_3 > mean_volume_3 * 0.5:\n",
    "    print(\"  O erro é relativamente alto, sugerindo baixa precisão nas predições.\")\n",
    "else:\n",
    "    print(\"  O erro é aceitável, indicando boa precisão do modelo.\")"
   ]
  },
  {
   "cell_type": "markdown",
   "metadata": {},
   "source": [
    "**Com base nos resultados que obtivemos, dá para ter uma boa ideia de como o modelo de regressão linear se saiu em cada região. Na Região 1, o volume médio previsto foi de 92,40 mil barris, com um erro (REQM) de 37,76 mil barris. Já na Região 2, o volume médio caiu para 68,71 mil barris, mas o erro foi bem baixo, apenas 0,89 mil barris. Por fim, a Região 3 teve um volume médio previsto de 94,77 mil barris, com um erro de 40,15 mil barris.**\n",
    "\n",
    "**Olhando esses números, o que chama atenção é que a Região 2 tem uma precisão incrível — o erro é quase insignificante comparado ao volume previsto, o que sugere que o modelo acertou em cheio por lá. Nas Regiões 1 e 3, os erros são maiores (próximos de 40 mil barris), mas ainda assim aceitáveis, já que ficam abaixo de 50% do volume médio previsto, mostrando que o modelo consegue fazer boas estimativas, mesmo com alguma variação.**\n",
    "\n",
    "**Para o nosso objetivo de encontrar os melhores lugares para novos poços, esses resultados já dão um norte: a Região 3 tem o maior volume médio previsto, mas vem com um erro considerável; a Região 1 fica logo atrás, com um desempenho parecido; e a Região 2, apesar de ter o menor volume, parece ser a mais confiável em termos de previsão.**"
   ]
  },
  {
   "cell_type": "markdown",
   "metadata": {},
   "source": [
    "## Preparação para o cálculo de lucro\n",
    "### Definição das variáveis de custo e receita"
   ]
  },
  {
   "cell_type": "code",
   "execution_count": 14,
   "metadata": {
    "trusted": true
   },
   "outputs": [
    {
     "name": "stdout",
     "output_type": "stream",
     "text": [
      "Variáveis de custo e receita:\n",
      "Orçamento total: $100,000,000\n",
      "Número de poços: 200\n",
      "Receita por unidade: $4,500 por mil barris\n",
      "Custo por poço: $500,000.00\n",
      "Volume mínimo por poço: 111.11 mil barris\n"
     ]
    }
   ],
   "source": [
    "# Definindo as variáveis do negócio\n",
    "TOTAL_BUDGET = 100_000_000  # Orçamento total para 200 poços (em dólares)\n",
    "NUM_WELLS = 200  # Número de poços a serem desenvolvidos\n",
    "REVENUE_PER_UNIT = 4_500  # Receita por unidade de produto (mil barris), em dólares\n",
    "MINIMUM_PROFIT = 500_000  # Lucro mínimo por poço para evitar prejuízo (em dólares)\n",
    "\n",
    "# Calculando o volume mínimo necessário por poço\n",
    "cost_per_well = TOTAL_BUDGET / NUM_WELLS  # Custo médio por poço\n",
    "min_volume_per_well = cost_per_well / REVENUE_PER_UNIT  # Volume mínimo em mil barris\n",
    "\n",
    "# Exibindo as variáveis\n",
    "print(\"Variáveis de custo e receita:\")\n",
    "print(f\"Orçamento total: ${TOTAL_BUDGET:,}\")\n",
    "print(f\"Número de poços: {NUM_WELLS}\")\n",
    "print(f\"Receita por unidade: ${REVENUE_PER_UNIT:,} por mil barris\")\n",
    "print(f\"Custo por poço: ${cost_per_well:,.2f}\")\n",
    "print(f\"Volume mínimo por poço: {min_volume_per_well:.2f} mil barris\")"
   ]
  },
  {
   "cell_type": "markdown",
   "metadata": {},
   "source": [
    "**Aqui definimos as constantes do projeto: orçamento de 100 milhões, 200 poços, receita de 4.500 dólares por unidade. Calculamos o custo por poço (500.000 dólares) e o volume mínimo necessário (111,11 mil barris) para cobrir esse custo.**"
   ]
  },
  {
   "cell_type": "markdown",
   "metadata": {},
   "source": [
    "### Comparação do volume médio previsto com o mínimo necessário"
   ]
  },
  {
   "cell_type": "code",
   "execution_count": 15,
   "metadata": {
    "trusted": true
   },
   "outputs": [
    {
     "name": "stdout",
     "output_type": "stream",
     "text": [
      "Comparação com o volume mínimo necessário (111,11 mil barris):\n",
      "Região 1: 92.40 mil barris\n",
      "  Diferença: -18.71 mil barris\n",
      "  Abaixo do mínimo\n",
      "\n",
      "Região 2: 68.71 mil barris\n",
      "  Diferença: -42.40 mil barris\n",
      "  Abaixo do mínimo\n",
      "\n",
      "Região 3: 94.77 mil barris\n",
      "  Diferença: -16.34 mil barris\n",
      "  Abaixo do mínimo\n"
     ]
    }
   ],
   "source": [
    "# Volumes médios previstos da Seção 2\n",
    "mean_volume_1 = 92.40  # Região 1 (geo_data_0)\n",
    "mean_volume_2 = 68.71  # Região 2 (geo_data_1)\n",
    "mean_volume_3 = 94.77  # Região 3 (geo_data_2)\n",
    "\n",
    "# Comparando com o volume mínimo\n",
    "print(\"Comparação com o volume mínimo necessário (111,11 mil barris):\")\n",
    "print(f\"Região 1: {mean_volume_1:.2f} mil barris\")\n",
    "print(f\"  Diferença: {mean_volume_1 - min_volume_per_well:.2f} mil barris\")\n",
    "print(f\"  {'Acima' if mean_volume_1 >= min_volume_per_well else 'Abaixo'} do mínimo\\n\")\n",
    "\n",
    "print(f\"Região 2: {mean_volume_2:.2f} mil barris\")\n",
    "print(f\"  Diferença: {mean_volume_2 - min_volume_per_well:.2f} mil barris\")\n",
    "print(f\"  {'Acima' if mean_volume_2 >= min_volume_per_well else 'Abaixo'} do mínimo\\n\")\n",
    "\n",
    "print(f\"Região 3: {mean_volume_3:.2f} mil barris\")\n",
    "print(f\"  Diferença: {mean_volume_3 - min_volume_per_well:.2f} mil barris\")\n",
    "print(f\"  {'Acima' if mean_volume_3 >= min_volume_per_well else 'Abaixo'} do mínimo\")"
   ]
  },
  {
   "cell_type": "markdown",
   "metadata": {},
   "source": [
    "**Depois de definir as variáveis e fazer as comparações, ficou claro o cenário que estamos lidando. O orçamento de 100 milhões de dólares para 200 poços dá um custo de 500 mil dólares por poço, o que significa que cada um precisa produzir pelo menos 111,11 mil barris para cobrir esse valor, considerando a receita de 4.500 dólares por unidade. Quando colocamos os volumes médios previstos na balança, os números mostram que nenhuma região atinge essa meta sozinha: a Região 1, com 92,40 mil barris, fica 18,71 abaixo; a Região 2, com 68,71 mil barris, está ainda mais longe, 42,40 abaixo; e a Região 3, com 94,77 mil barris, chega mais perto, mas ainda assim fica 16,34 abaixo do mínimo.**\n",
    "\n",
    "**Por enquanto, a Região 3 está na frente por ter a média mais alta e a menor diferença para o alvo, seguida pela Região 1. A Região 2!**"
   ]
  },
  {
   "cell_type": "markdown",
   "metadata": {},
   "source": [
    "## Cálculo de lucro\n",
    "\n",
    "### Função para calcular o lucro"
   ]
  },
  {
   "cell_type": "code",
   "execution_count": 16,
   "metadata": {
    "trusted": true
   },
   "outputs": [],
   "source": [
    "# Função para calcular o lucro dos 200 melhores poços\n",
    "def calculate_profit(predictions, true_values, num_wells, revenue_per_unit, total_budget):\n",
    "    # Ordenando os poços pelas predições em ordem decrescente e pegando os 200 melhores\n",
    "    top_wells_indices = predictions.sort_values(ascending=False).head(num_wells).index\n",
    "    # Selecionando os valores reais correspondentes aos 200 melhores poços previstos\n",
    "    selected_volumes = true_values.loc[top_wells_indices]\n",
    "    \n",
    "    # Calculando receita total e lucro\n",
    "    total_volume = selected_volumes.sum()  # Volume total em mil barris\n",
    "    total_revenue = total_volume * revenue_per_unit  # Receita total em dólares\n",
    "    profit = total_revenue - total_budget  # Lucro líquido\n",
    "    \n",
    "    return profit, total_volume\n",
    "\n",
    "# Variáveis definidas na Seção 3\n",
    "TOTAL_BUDGET = 100_000_000  # Orçamento total\n",
    "NUM_WELLS = 200  # Número de poços\n",
    "REVENUE_PER_UNIT = 4_500  # Receita por unidade"
   ]
  },
  {
   "cell_type": "markdown",
   "metadata": {},
   "source": [
    "### Seleção dos 200 melhores poços e soma do volume alvo"
   ]
  },
  {
   "cell_type": "code",
   "execution_count": 17,
   "metadata": {
    "trusted": true
   },
   "outputs": [
    {
     "name": "stdout",
     "output_type": "stream",
     "text": [
      "Resultados dos 200 melhores poços por região:\n",
      "Região 1 (geo_data_0):\n",
      "  Volume total: 29686.98 mil barris\n",
      "  Lucro: $33,591,411.14\n",
      "\n",
      "Região 2 (geo_data_1):\n",
      "  Volume total: 27589.08 mil barris\n",
      "  Lucro: $24,150,866.97\n",
      "\n",
      "Região 3 (geo_data_2):\n",
      "  Volume total: 27996.83 mil barris\n",
      "  Lucro: $25,985,717.59\n"
     ]
    }
   ],
   "source": [
    "# Usando predições e valores reais da Seção 2\n",
    "\n",
    "# Calculando lucro e volume para cada região\n",
    "profit_1, volume_1 = calculate_profit(predictions_1, true_values_1, NUM_WELLS, REVENUE_PER_UNIT, TOTAL_BUDGET)\n",
    "profit_2, volume_2 = calculate_profit(predictions_2, true_values_2, NUM_WELLS, REVENUE_PER_UNIT, TOTAL_BUDGET)\n",
    "profit_3, volume_3 = calculate_profit(predictions_3, true_values_3, NUM_WELLS, REVENUE_PER_UNIT, TOTAL_BUDGET)\n",
    "\n",
    "# Exibindo os resultados\n",
    "print(\"Resultados dos 200 melhores poços por região:\")\n",
    "print(f\"Região 1 (geo_data_0):\")\n",
    "print(f\"  Volume total: {volume_1:.2f} mil barris\")\n",
    "print(f\"  Lucro: ${profit_1:,.2f}\\n\")\n",
    "\n",
    "print(f\"Região 2 (geo_data_1):\")\n",
    "print(f\"  Volume total: {volume_2:.2f} mil barris\")\n",
    "print(f\"  Lucro: ${profit_2:,.2f}\\n\")\n",
    "\n",
    "print(f\"Região 3 (geo_data_2):\")\n",
    "print(f\"  Volume total: {volume_3:.2f} mil barris\")\n",
    "print(f\"  Lucro: ${profit_3:,.2f}\")"
   ]
  },
  {
   "cell_type": "markdown",
   "metadata": {},
   "source": [
    "### Lucro potencial e sugestão de região"
   ]
  },
  {
   "cell_type": "code",
   "execution_count": 18,
   "metadata": {
    "trusted": true
   },
   "outputs": [
    {
     "name": "stdout",
     "output_type": "stream",
     "text": [
      "\n",
      "Região sugerida: Região 1\n",
      "Lucro potencial: $33,591,411.14\n"
     ]
    }
   ],
   "source": [
    "# Comparando os lucros\n",
    "profits = {\n",
    "    \"Região 1\": profit_1,\n",
    "    \"Região 2\": profit_2,\n",
    "    \"Região 3\": profit_3\n",
    "}\n",
    "best_region = max(profits, key=profits.get)\n",
    "best_profit = profits[best_region]\n",
    "\n",
    "# Exibindo a sugestão\n",
    "print(f\"\\nRegião sugerida: {best_region}\")\n",
    "print(f\"Lucro potencial: ${best_profit:,.2f}\")"
   ]
  },
  {
   "cell_type": "markdown",
   "metadata": {},
   "source": [
    "**Depois de calcular o lucro dos 200 melhores poços de cada região, os números mostram um cenário bem interessante.** \n",
    "\n",
    "- Na Região 1, conseguimos um volume total de 29.686,98 mil barris. Lucro de $ 33.591.411,14. \n",
    "\n",
    "- A Região 2 ficou com 27.589,08 mil barris. Lucro de $24.150.866,97.\n",
    "\n",
    "- A Região 3 chegou a 27.996,83 mil barris, resultando em $ 25.985.717,59.\n",
    "\n",
    "**Dá para ver que a Região 1 leva a melhor aqui, com um lucro bem acima das outras duas — mais de 33 milhões de dólares! Isso sugere que os poços top dessa região, mesmo com um erro maior nas predições, entregam um volume real que compensa o investimento de 100 milhões. A Região 3 até que fica perto em volume, mas o lucro não acompanha, e a Região 2, apesar de super precisa nas predições, não tem volume suficiente para competir. Então, por agora, a minha sugestão é focar na Região 1 para desenvolver os poços, já que ela maximiza o retorno.**"
   ]
  },
  {
   "cell_type": "markdown",
   "metadata": {},
   "source": [
    "## Cálculo de riscos e lucro com Bootstrapping\n",
    "### Aplicação da técnica de bootstrapping"
   ]
  },
  {
   "cell_type": "code",
   "execution_count": 19,
   "metadata": {
    "trusted": true
   },
   "outputs": [],
   "source": [
    "# Função para realizar o bootstrapping e calcular lucros\n",
    "def bootstrap_profit(predictions, true_values, num_wells, revenue_per_unit, total_budget, n_samples=1000):\n",
    "    profits = []\n",
    "    rng = np.random.RandomState(42)  # Para reprodutibilidade\n",
    "    \n",
    "    for _ in range(n_samples):\n",
    "        # Amostrando 500 poços aleatoriamente com reposição\n",
    "        sample_indices = rng.choice(predictions.index, size=500, replace=True)\n",
    "        sample_predictions = predictions.loc[sample_indices]\n",
    "        sample_true_values = true_values.loc[sample_indices]\n",
    "        \n",
    "        # Selecionando os 200 melhores da amostra\n",
    "        top_indices = sample_predictions.sort_values(ascending=False).head(num_wells).index\n",
    "        selected_volumes = sample_true_values.loc[top_indices]\n",
    "        \n",
    "        # Calculando o lucro\n",
    "        total_volume = selected_volumes.sum()\n",
    "        total_revenue = total_volume * revenue_per_unit\n",
    "        profit = total_revenue - total_budget\n",
    "        profits.append(profit)\n",
    "    \n",
    "    return np.array(profits)\n",
    "\n",
    "# Variáveis já definidas\n",
    "TOTAL_BUDGET = 100_000_000\n",
    "NUM_WELLS = 200\n",
    "REVENUE_PER_UNIT = 4_500\n",
    "\n",
    "# Calculando lucros com bootstrapping para cada região\n",
    "profits_region_1 = bootstrap_profit(predictions_1, true_values_1, NUM_WELLS, REVENUE_PER_UNIT, TOTAL_BUDGET)\n",
    "profits_region_2 = bootstrap_profit(predictions_2, true_values_2, NUM_WELLS, REVENUE_PER_UNIT, TOTAL_BUDGET)\n",
    "profits_region_3 = bootstrap_profit(predictions_3, true_values_3, NUM_WELLS, REVENUE_PER_UNIT, TOTAL_BUDGET)"
   ]
  },
  {
   "cell_type": "markdown",
   "metadata": {},
   "source": [
    "### Cálculo de lucro médio, intervalo de confiança e risco"
   ]
  },
  {
   "cell_type": "code",
   "execution_count": 20,
   "metadata": {
    "trusted": true
   },
   "outputs": [
    {
     "name": "stdout",
     "output_type": "stream",
     "text": [
      "Resultados do bootstrapping (1.000 amostras):\n",
      "Região 1 (geo_data_0):\n",
      "  Lucro médio: $6,061,226.32\n",
      "  Intervalo de confiança 95%: ($100,894.12, $12,463,709.81)\n",
      "  Risco de prejuízo: 2.50%\n",
      "\n",
      "Região 2 (geo_data_1):\n",
      "  Lucro médio: $6,651,176.54\n",
      "  Intervalo de confiança 95%: ($1,808,515.85, $12,057,104.61)\n",
      "  Risco de prejuízo: 0.20%\n",
      "\n",
      "Região 3 (geo_data_2):\n",
      "  Lucro médio: $5,851,036.38\n",
      "  Intervalo de confiança 95%: ($-8,369.42, $12,120,508.98)\n",
      "  Risco de prejuízo: 2.60%\n"
     ]
    }
   ],
   "source": [
    "# Função para calcular métricas do bootstrapping\n",
    "def analyze_bootstrap(profits, confidence_level=0.95):\n",
    "    mean_profit = np.mean(profits)\n",
    "    lower_bound = np.percentile(profits, (1 - confidence_level) / 2 * 100)\n",
    "    upper_bound = np.percentile(profits, (1 + confidence_level) / 2 * 100)\n",
    "    risk = (profits < 0).mean() * 100  # Porcentagem de amostras com prejuízo\n",
    "    \n",
    "    return mean_profit, (lower_bound, upper_bound), risk\n",
    "\n",
    "# Analisando cada região\n",
    "mean_1, ci_1, risk_1 = analyze_bootstrap(profits_region_1)\n",
    "mean_2, ci_2, risk_2 = analyze_bootstrap(profits_region_2)\n",
    "mean_3, ci_3, risk_3 = analyze_bootstrap(profits_region_3)\n",
    "\n",
    "# Exibindo os resultados\n",
    "print(\"Resultados do bootstrapping (1.000 amostras):\")\n",
    "print(f\"Região 1 (geo_data_0):\")\n",
    "print(f\"  Lucro médio: ${mean_1:,.2f}\")\n",
    "print(f\"  Intervalo de confiança 95%: (${ci_1[0]:,.2f}, ${ci_1[1]:,.2f})\")\n",
    "print(f\"  Risco de prejuízo: {risk_1:.2f}%\\n\")\n",
    "\n",
    "print(f\"Região 2 (geo_data_1):\")\n",
    "print(f\"  Lucro médio: ${mean_2:,.2f}\")\n",
    "print(f\"  Intervalo de confiança 95%: (${ci_2[0]:,.2f}, ${ci_2[1]:,.2f})\")\n",
    "print(f\"  Risco de prejuízo: {risk_2:.2f}%\\n\")\n",
    "\n",
    "print(f\"Região 3 (geo_data_2):\")\n",
    "print(f\"  Lucro médio: ${mean_3:,.2f}\")\n",
    "print(f\"  Intervalo de confiança 95%: (${ci_3[0]:,.2f}, ${ci_3[1]:,.2f})\")\n",
    "print(f\"  Risco de prejuízo: {risk_3:.2f}%\")"
   ]
  },
  {
   "cell_type": "markdown",
   "metadata": {},
   "source": [
    "### Sugestão de região e conclusões"
   ]
  },
  {
   "cell_type": "code",
   "execution_count": 45,
   "metadata": {
    "scrolled": true,
    "trusted": true
   },
   "outputs": [
    {
     "name": "stdout",
     "output_type": "stream",
     "text": [
      "\n",
      "Região sugerida com risco < 2.5%: Região 2\n",
      "Lucro médio: $6,651,176.54\n"
     ]
    }
   ],
   "source": [
    "# Filtrando regiões com risco < 2.5%\n",
    "valid_regions = {}\n",
    "if risk_1 < 2.5:\n",
    "    valid_regions[\"Região 1\"] = mean_1\n",
    "if risk_2 < 2.5:\n",
    "    valid_regions[\"Região 2\"] = mean_2\n",
    "if risk_3 < 2.5:\n",
    "    valid_regions[\"Região 3\"] = mean_3\n",
    "\n",
    "# Escolhendo a melhor região válida\n",
    "if valid_regions:\n",
    "    best_region = max(valid_regions, key=valid_regions.get)\n",
    "    best_mean_profit = valid_regions[best_region]\n",
    "    print(f\"\\nRegião sugerida com risco < 2.5%: {best_region}\")\n",
    "    print(f\"Lucro médio: ${best_mean_profit:,.2f}\")\n",
    "else:\n",
    "    print(\"\\nNenhuma região atende ao critério de risco < 2.5%.\")"
   ]
  },
  {
   "cell_type": "markdown",
   "metadata": {},
   "source": [
    "## Conclusão\n",
    "\n",
    "**Olhando os resultados do bootstrapping, dá pra tirar uma conclusão bem clara. A Região 1 teve um lucro médio de 6.061.226,32, com intervalo de confiança entre 100.894,12 e 12.463.709,81, mas o risco de prejuízo ficou em 2,50 por cento, exatamente no limite. A Região 2 mostrou um lucro médio de 6.651.176,54, com intervalo de 1.808.515,85 a 12.057.104,61, e um risco baixíssimo de 0,20 por cento. Já a Região 3 ficou com 5.851.036,38 de lucro médio, intervalo de -8.369,42 a  12.120.508,98, e um risco de 2,60 por cento, passando do aceitável.**\n",
    "\n",
    "**Como o projeto exige risco abaixo de 2,5 por cento, a Região 2 é a única que passa no corte com folga, além de ter o maior lucro médio entre as opções válidas. Na Seção 4, a Região 1 tinha brilhado com $33 milhões de lucro potencial, mas aqui o bootstrapping mostrou que ela não é tão segura. A Região 2, mesmo com um lucro potencial menor antes, se prova mais estável e confiável. Então, minha sugestão é ir com a Região 2 — é o melhor equilíbrio entre ganhar dinheiro e dormir tranquilo!**"
   ]
  }
 ],
 "metadata": {
  "ExecuteTimeLog": [
   {
    "duration": 896,
    "start_time": "2025-03-25T14:15:30.520Z"
   },
   {
    "duration": 60,
    "start_time": "2025-03-25T14:15:44.130Z"
   },
   {
    "duration": 64,
    "start_time": "2025-03-25T14:17:24.847Z"
   },
   {
    "duration": 58,
    "start_time": "2025-03-25T14:17:59.022Z"
   },
   {
    "duration": 58,
    "start_time": "2025-03-25T14:18:07.626Z"
   },
   {
    "duration": 66,
    "start_time": "2025-03-25T14:19:41.821Z"
   },
   {
    "duration": 8,
    "start_time": "2025-03-25T15:51:39.088Z"
   },
   {
    "duration": 91,
    "start_time": "2025-03-25T15:52:28.198Z"
   },
   {
    "duration": 59,
    "start_time": "2025-03-25T15:53:44.046Z"
   },
   {
    "duration": 4,
    "start_time": "2025-03-25T15:54:48.421Z"
   },
   {
    "duration": 9,
    "start_time": "2025-03-25T15:57:11.005Z"
   },
   {
    "duration": 172,
    "start_time": "2025-03-25T15:59:11.521Z"
   },
   {
    "duration": 357,
    "start_time": "2025-03-25T16:00:31.425Z"
   },
   {
    "duration": 43,
    "start_time": "2025-03-25T17:03:46.913Z"
   },
   {
    "duration": 31,
    "start_time": "2025-03-25T17:04:05.634Z"
   },
   {
    "duration": 47,
    "start_time": "2025-03-25T17:08:53.147Z"
   },
   {
    "duration": 223,
    "start_time": "2025-03-25T18:51:01.108Z"
   },
   {
    "duration": 769,
    "start_time": "2025-03-25T18:51:20.217Z"
   },
   {
    "duration": 23,
    "start_time": "2025-03-25T18:52:19.407Z"
   },
   {
    "duration": 15,
    "start_time": "2025-03-25T18:54:19.463Z"
   },
   {
    "duration": 10,
    "start_time": "2025-03-25T18:55:26.418Z"
   },
   {
    "duration": 3,
    "start_time": "2025-03-25T18:56:03.808Z"
   },
   {
    "duration": 6,
    "start_time": "2025-03-25T18:56:30.133Z"
   },
   {
    "duration": 5,
    "start_time": "2025-03-25T18:57:46.957Z"
   },
   {
    "duration": 3,
    "start_time": "2025-03-25T19:04:06.442Z"
   },
   {
    "duration": 4,
    "start_time": "2025-03-25T19:05:01.509Z"
   },
   {
    "duration": 3,
    "start_time": "2025-03-25T19:15:19.878Z"
   },
   {
    "duration": 14,
    "start_time": "2025-03-25T19:16:42.985Z"
   },
   {
    "duration": 3,
    "start_time": "2025-03-25T19:17:19.303Z"
   },
   {
    "duration": 224,
    "start_time": "2025-03-26T12:49:09.816Z"
   },
   {
    "duration": 43,
    "start_time": "2025-03-26T12:49:10.042Z"
   },
   {
    "duration": 28,
    "start_time": "2025-03-26T12:49:10.087Z"
   },
   {
    "duration": 14,
    "start_time": "2025-03-26T12:49:10.117Z"
   },
   {
    "duration": 8,
    "start_time": "2025-03-26T12:49:10.135Z"
   },
   {
    "duration": 9,
    "start_time": "2025-03-26T12:49:10.144Z"
   },
   {
    "duration": 5,
    "start_time": "2025-03-26T12:49:10.213Z"
   },
   {
    "duration": 10,
    "start_time": "2025-03-26T12:49:10.220Z"
   },
   {
    "duration": 81,
    "start_time": "2025-03-26T12:49:10.232Z"
   },
   {
    "duration": 4,
    "start_time": "2025-03-26T12:49:10.315Z"
   },
   {
    "duration": 14,
    "start_time": "2025-03-26T12:49:10.320Z"
   },
   {
    "duration": 4,
    "start_time": "2025-03-26T12:49:10.335Z"
   },
   {
    "duration": 2470,
    "start_time": "2025-03-26T12:49:10.342Z"
   },
   {
    "duration": 2466,
    "start_time": "2025-03-26T12:49:33.210Z"
   },
   {
    "duration": 7,
    "start_time": "2025-03-26T12:50:14.001Z"
   },
   {
    "duration": 4,
    "start_time": "2025-03-26T12:52:39.997Z"
   }
  ],
  "kernelspec": {
   "display_name": "Python 3",
   "language": "python",
   "name": "python3"
  },
  "language_info": {
   "codemirror_mode": {
    "name": "ipython",
    "version": 3
   },
   "file_extension": ".py",
   "mimetype": "text/x-python",
   "name": "python",
   "nbconvert_exporter": "python",
   "pygments_lexer": "ipython3",
   "version": "3.11.5"
  },
  "toc": {
   "base_numbering": 1,
   "nav_menu": {},
   "number_sections": true,
   "sideBar": true,
   "skip_h1_title": true,
   "title_cell": "Table of Contents",
   "title_sidebar": "Contents",
   "toc_cell": false,
   "toc_position": {},
   "toc_section_display": true,
   "toc_window_display": false
  }
 },
 "nbformat": 4,
 "nbformat_minor": 2
}
